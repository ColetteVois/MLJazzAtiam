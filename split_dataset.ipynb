{
 "cells": [
  {
   "cell_type": "code",
   "execution_count": 5,
   "metadata": {},
   "outputs": [],
   "source": [
    "import os\n",
    "from random import shuffle"
   ]
  },
  {
   "cell_type": "code",
   "execution_count": 8,
   "metadata": {},
   "outputs": [],
   "source": [
    "datadir = 'data/jazz_xlab/'\n",
    "if os.path.exists(datadir+'.DS_Store'):\n",
    "    os.remove(datadir+'.DS_Store')\n",
    "files = os.listdir(datadir)\n",
    "shuffle(files)\n",
    "\n",
    "ratiotrain = 0.8\n",
    "ratiotest = 0.1\n",
    "Nfiles = len(files)\n",
    "Ntrain = int(Nfiles*ratiotrain)\n",
    "Ntest = int(Nfiles*ratiotest)\n",
    "train_files = files[0:Ntrain]\n",
    "test_files = files[Ntrain:Ntrain+Ntest]\n",
    "valid_files = files[Ntrain+Ntest:Nfiles]\n",
    "\n",
    "for file in train_files:\n",
    "    os.replace(datadir+file, 'data/train/'+file)\n",
    "for file in test_files:\n",
    "    os.replace(datadir+file, 'data/test/'+file)\n",
    "for file in valid_files:\n",
    "    os.replace(datadir+file, 'data/validation/'+file)"
   ]
  },
  {
   "cell_type": "code",
   "execution_count": null,
   "metadata": {},
   "outputs": [],
   "source": []
  }
 ],
 "metadata": {
  "kernelspec": {
   "display_name": "Python 3",
   "language": "python",
   "name": "python3"
  },
  "language_info": {
   "codemirror_mode": {
    "name": "ipython",
    "version": 3
   },
   "file_extension": ".py",
   "mimetype": "text/x-python",
   "name": "python",
   "nbconvert_exporter": "python",
   "pygments_lexer": "ipython3",
   "version": "3.7.0"
  }
 },
 "nbformat": 4,
 "nbformat_minor": 2
}
